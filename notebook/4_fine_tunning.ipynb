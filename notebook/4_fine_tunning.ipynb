{
 "cells": [
  {
   "cell_type": "code",
   "execution_count": 2,
   "id": "4b5d6f41",
   "metadata": {},
   "outputs": [
    {
     "name": "stdout",
     "output_type": "stream",
     "text": [
      "The autoreload extension is already loaded. To reload it, use:\n",
      "  %reload_ext autoreload\n",
      "Usando dispositivo: cuda\n"
     ]
    }
   ],
   "source": [
    "import os\n",
    "import pandas as pd\n",
    "import sys\n",
    "from torch.utils.data import DataLoader as TorchDataLoader\n",
    "from torchvision import models, transforms\n",
    "import matplotlib.pyplot as plt\n",
    "import seaborn as sns\n",
    "\n",
    "# --- (Recomendado) Recarga automática de módulos ---\n",
    "%load_ext autoreload\n",
    "%autoreload 2\n",
    "\n",
    "# --- Añadir la carpeta raíz al path para encontrar la carpeta 'src' ---\n",
    "# Ajusta la ruta si es necesario.\n",
    "project_root = os.path.abspath(os.path.join(os.getcwd(), os.pardir))\n",
    "if project_root not in sys.path:\n",
    "    sys.path.append(project_root)\n",
    "    print(f\"Añadido al path: {project_root}\")\n",
    "\n",
    "# --- IMPORTAMOS NUESTRA ARQUITECTURA DESDE EL ARCHIVO .PY ---\n",
    "from src.architecture import Dataset, collate_fn, Model, fit\n",
    "\n",
    "# --- Configuración del Dispositivo ---\n",
    "DEVICE = \"cuda\" if torch.cuda.is_available() else \"cpu\"\n",
    "print(f\"Usando dispositivo: {DEVICE}\")\n"
   ]
  },
  {
   "cell_type": "code",
   "execution_count": 3,
   "id": "0ffa2d7e",
   "metadata": {},
   "outputs": [
    {
     "name": "stdout",
     "output_type": "stream",
     "text": [
      "Transformación definida: solo Resize a 224x224.\n",
      "DataLoaders creados. Número de clases: 38\n"
     ]
    }
   ],
   "source": [
    "# --- Rutas de Datos ---\n",
    "RAW_DATA_PATH = \"../data/raw/color\"\n",
    "PROCESSED_DATA_PATH = \"../data/processed/\"\n",
    "\n",
    "# --- Carga de DataFrames ---\n",
    "df_strat1 = pd.read_csv(os.path.join(PROCESSED_DATA_PATH, 'train_strategy_1.csv'))\n",
    "df_strat2 = pd.read_csv(os.path.join(PROCESSED_DATA_PATH, 'train_strategy_2.csv'))\n",
    "df_valid_full = pd.read_csv(os.path.join(PROCESSED_DATA_PATH, 'dataframe_splitted.csv'))\n",
    "\n",
    "# --- Preparar DataFrame de Validación ---\n",
    "df_valid = df_valid_full[df_valid_full['split'] == 'valid'].copy()\n",
    "df_valid['image_path'] = df_valid['relative_path'].apply(lambda rel_path: os.path.join(RAW_DATA_PATH, rel_path))\n",
    "\n",
    "# --- Mapeo de Clases y Transformación ---\n",
    "all_classes = sorted(df_valid_full['class'].unique())\n",
    "label_map = {label: i for i, label in enumerate(all_classes)}\n",
    "NUM_CLASSES = len(all_classes)\n",
    "trans = transforms.Compose([transforms.Resize((224, 224))])\n",
    "print(\"Transformación definida: solo Resize a 224x224.\")\n",
    "\n",
    "# --- Crear Datasets y DataLoaders ---\n",
    "dataset_s1 = Dataset(df_strat1['image_path'].values, df_strat1['class'].values, label_map, trans=trans)\n",
    "dataset_s2 = Dataset(df_strat2['image_path'].values, df_strat2['class'].values, label_map, trans=trans)\n",
    "dataset_valid = Dataset(df_valid['image_path'].values, df_valid['class'].values, label_map, trans=trans)\n",
    "\n",
    "dataloader_s1 = {'train': TorchDataLoader(dataset_s1, batch_size=32, shuffle=True, collate_fn=collate_fn),\n",
    "                 'valid': TorchDataLoader(dataset_valid, batch_size=64, shuffle=False, collate_fn=collate_fn)}\n",
    "\n",
    "dataloader_s2 = {'train': TorchDataLoader(dataset_s2, batch_size=32, shuffle=True, collate_fn=collate_fn),\n",
    "                 'valid': TorchDataLoader(dataset_valid, batch_size=64, shuffle=False, collate_fn=collate_fn)}\n",
    "\n",
    "print(f\"DataLoaders creados. Número de clases: {NUM_CLASSES}\")"
   ]
  },
  {
   "cell_type": "code",
   "execution_count": 4,
   "id": "9ad1445f",
   "metadata": {},
   "outputs": [
    {
     "name": "stdout",
     "output_type": "stream",
     "text": [
      "INICIANDO CICLO DE ENTRENAMIENTO PARA ESTRATEGIA 1\n",
      "Congelando capas convolucionales (Transfer Learning)...\n",
      "\n",
      "--- Entrenando Strat1_TL por un máximo de 5 epochs (Paciencia: 3) ---\n"
     ]
    },
    {
     "data": {
      "application/vnd.jupyter.widget-view+json": {
       "model_id": "785ee051e3a1400e95319042718d67ee",
       "version_major": 2,
       "version_minor": 0
      },
      "text/plain": [
       "Epoch 1/5 [Train]:   0%|          | 0/2928 [00:00<?, ?it/s]"
      ]
     },
     "metadata": {},
     "output_type": "display_data"
    },
    {
     "data": {
      "application/vnd.jupyter.widget-view+json": {
       "model_id": "790aa2c449284bafa08b57277bdb6f1e",
       "version_major": 2,
       "version_minor": 0
      },
      "text/plain": [
       "Epoch 1/5 [Valid]:   0%|          | 0/85 [00:00<?, ?it/s]"
      ]
     },
     "metadata": {},
     "output_type": "display_data"
    },
    {
     "name": "stdout",
     "output_type": "stream",
     "text": [
      "Epoch 1: Mejora en Val Loss. Guardando mejor modelo en 'Strat1_TL_best.pth'\n"
     ]
    },
    {
     "data": {
      "application/vnd.jupyter.widget-view+json": {
       "model_id": "94bc8ea7551c4a91b250e118a5c34867",
       "version_major": 2,
       "version_minor": 0
      },
      "text/plain": [
       "Epoch 2/5 [Train]:   0%|          | 0/2928 [00:00<?, ?it/s]"
      ]
     },
     "metadata": {},
     "output_type": "display_data"
    },
    {
     "data": {
      "application/vnd.jupyter.widget-view+json": {
       "model_id": "ecc21c3a773e4dadaac6b7e4b5d19573",
       "version_major": 2,
       "version_minor": 0
      },
      "text/plain": [
       "Epoch 2/5 [Valid]:   0%|          | 0/85 [00:00<?, ?it/s]"
      ]
     },
     "metadata": {},
     "output_type": "display_data"
    },
    {
     "name": "stdout",
     "output_type": "stream",
     "text": [
      "Epoch 2: Mejora en Val Loss. Guardando mejor modelo en 'Strat1_TL_best.pth'\n"
     ]
    },
    {
     "data": {
      "application/vnd.jupyter.widget-view+json": {
       "model_id": "89fde393e7a64ca6864135d4d16ac057",
       "version_major": 2,
       "version_minor": 0
      },
      "text/plain": [
       "Epoch 3/5 [Train]:   0%|          | 0/2928 [00:00<?, ?it/s]"
      ]
     },
     "metadata": {},
     "output_type": "display_data"
    },
    {
     "data": {
      "application/vnd.jupyter.widget-view+json": {
       "model_id": "91f8bb77f51d48b0ad11adfd4bd53f19",
       "version_major": 2,
       "version_minor": 0
      },
      "text/plain": [
       "Epoch 3/5 [Valid]:   0%|          | 0/85 [00:00<?, ?it/s]"
      ]
     },
     "metadata": {},
     "output_type": "display_data"
    },
    {
     "name": "stdout",
     "output_type": "stream",
     "text": [
      "Epoch 3: Mejora en Val Loss. Guardando mejor modelo en 'Strat1_TL_best.pth'\n"
     ]
    },
    {
     "data": {
      "application/vnd.jupyter.widget-view+json": {
       "model_id": "4af75d4dacd8479fb984c09a56d3633b",
       "version_major": 2,
       "version_minor": 0
      },
      "text/plain": [
       "Epoch 4/5 [Train]:   0%|          | 0/2928 [00:00<?, ?it/s]"
      ]
     },
     "metadata": {},
     "output_type": "display_data"
    },
    {
     "data": {
      "application/vnd.jupyter.widget-view+json": {
       "model_id": "87a3169a1b9a40c49f53aaa0a4eb10b1",
       "version_major": 2,
       "version_minor": 0
      },
      "text/plain": [
       "Epoch 4/5 [Valid]:   0%|          | 0/85 [00:00<?, ?it/s]"
      ]
     },
     "metadata": {},
     "output_type": "display_data"
    },
    {
     "name": "stdout",
     "output_type": "stream",
     "text": [
      "Epoch 4: Mejora en Val Loss. Guardando mejor modelo en 'Strat1_TL_best.pth'\n"
     ]
    },
    {
     "data": {
      "application/vnd.jupyter.widget-view+json": {
       "model_id": "af8d10a62d3c42ee9d47f778b876ed25",
       "version_major": 2,
       "version_minor": 0
      },
      "text/plain": [
       "Epoch 5/5 [Train]:   0%|          | 0/2928 [00:00<?, ?it/s]"
      ]
     },
     "metadata": {},
     "output_type": "display_data"
    },
    {
     "data": {
      "application/vnd.jupyter.widget-view+json": {
       "model_id": "6a165e9eefd142f7a13a5ae20ab709ad",
       "version_major": 2,
       "version_minor": 0
      },
      "text/plain": [
       "Epoch 5/5 [Valid]:   0%|          | 0/85 [00:00<?, ?it/s]"
      ]
     },
     "metadata": {},
     "output_type": "display_data"
    },
    {
     "name": "stdout",
     "output_type": "stream",
     "text": [
      "Epoch 5: Mejora en Val Loss. Guardando mejor modelo en 'Strat1_TL_best.pth'\n",
      "Entrenamiento finalizado. Cargando mejor modelo desde 'Strat1_TL_best.pth'\n",
      "Descongelando todas las capas (Fine-tuning)...\n",
      "\n",
      "--- Entrenando Strat1_FT por un máximo de 10 epochs (Paciencia: 3) ---\n"
     ]
    },
    {
     "data": {
      "application/vnd.jupyter.widget-view+json": {
       "model_id": "15f92856a4a44cd3a38267cfcbec2532",
       "version_major": 2,
       "version_minor": 0
      },
      "text/plain": [
       "Epoch 1/10 [Train]:   0%|          | 0/2928 [00:00<?, ?it/s]"
      ]
     },
     "metadata": {},
     "output_type": "display_data"
    },
    {
     "data": {
      "application/vnd.jupyter.widget-view+json": {
       "model_id": "181cf9ebad6f44c0961a7d9c4366bbca",
       "version_major": 2,
       "version_minor": 0
      },
      "text/plain": [
       "Epoch 1/10 [Valid]:   0%|          | 0/85 [00:00<?, ?it/s]"
      ]
     },
     "metadata": {},
     "output_type": "display_data"
    },
    {
     "name": "stdout",
     "output_type": "stream",
     "text": [
      "Epoch 1: Mejora en Val Loss. Guardando mejor modelo en 'Strat1_FT_best.pth'\n"
     ]
    },
    {
     "data": {
      "application/vnd.jupyter.widget-view+json": {
       "model_id": "cc5e340155244fda886a0e5d2aed4e50",
       "version_major": 2,
       "version_minor": 0
      },
      "text/plain": [
       "Epoch 2/10 [Train]:   0%|          | 0/2928 [00:00<?, ?it/s]"
      ]
     },
     "metadata": {},
     "output_type": "display_data"
    },
    {
     "data": {
      "application/vnd.jupyter.widget-view+json": {
       "model_id": "18375f0c56bc4f4fb7309c785d2e2448",
       "version_major": 2,
       "version_minor": 0
      },
      "text/plain": [
       "Epoch 2/10 [Valid]:   0%|          | 0/85 [00:00<?, ?it/s]"
      ]
     },
     "metadata": {},
     "output_type": "display_data"
    },
    {
     "name": "stdout",
     "output_type": "stream",
     "text": [
      "Epoch 2: Mejora en Val Loss. Guardando mejor modelo en 'Strat1_FT_best.pth'\n"
     ]
    },
    {
     "data": {
      "application/vnd.jupyter.widget-view+json": {
       "model_id": "1b0a9e916193492e98aeb3f704ba2541",
       "version_major": 2,
       "version_minor": 0
      },
      "text/plain": [
       "Epoch 3/10 [Train]:   0%|          | 0/2928 [00:00<?, ?it/s]"
      ]
     },
     "metadata": {},
     "output_type": "display_data"
    },
    {
     "data": {
      "application/vnd.jupyter.widget-view+json": {
       "model_id": "23144e44c0674900adcf0463269176b3",
       "version_major": 2,
       "version_minor": 0
      },
      "text/plain": [
       "Epoch 3/10 [Valid]:   0%|          | 0/85 [00:00<?, ?it/s]"
      ]
     },
     "metadata": {},
     "output_type": "display_data"
    },
    {
     "name": "stdout",
     "output_type": "stream",
     "text": [
      "Epoch 3: Mejora en Val Loss. Guardando mejor modelo en 'Strat1_FT_best.pth'\n"
     ]
    },
    {
     "data": {
      "application/vnd.jupyter.widget-view+json": {
       "model_id": "93e0dd7580d3415983df46970a3471ca",
       "version_major": 2,
       "version_minor": 0
      },
      "text/plain": [
       "Epoch 4/10 [Train]:   0%|          | 0/2928 [00:00<?, ?it/s]"
      ]
     },
     "metadata": {},
     "output_type": "display_data"
    },
    {
     "data": {
      "application/vnd.jupyter.widget-view+json": {
       "model_id": "fbabdbfd19b34f2b8b97a903ff6b416e",
       "version_major": 2,
       "version_minor": 0
      },
      "text/plain": [
       "Epoch 4/10 [Valid]:   0%|          | 0/85 [00:00<?, ?it/s]"
      ]
     },
     "metadata": {},
     "output_type": "display_data"
    },
    {
     "name": "stdout",
     "output_type": "stream",
     "text": [
      "Epoch 4: Mejora en Val Loss. Guardando mejor modelo en 'Strat1_FT_best.pth'\n"
     ]
    },
    {
     "data": {
      "application/vnd.jupyter.widget-view+json": {
       "model_id": "2cbf7914e0b2444f90f1ae357a348efe",
       "version_major": 2,
       "version_minor": 0
      },
      "text/plain": [
       "Epoch 5/10 [Train]:   0%|          | 0/2928 [00:00<?, ?it/s]"
      ]
     },
     "metadata": {},
     "output_type": "display_data"
    },
    {
     "data": {
      "application/vnd.jupyter.widget-view+json": {
       "model_id": "90e985622b0c470994f3ca1c1bc974e3",
       "version_major": 2,
       "version_minor": 0
      },
      "text/plain": [
       "Epoch 5/10 [Valid]:   0%|          | 0/85 [00:00<?, ?it/s]"
      ]
     },
     "metadata": {},
     "output_type": "display_data"
    },
    {
     "name": "stdout",
     "output_type": "stream",
     "text": [
      "Epoch 5: Mejora en Val Loss. Guardando mejor modelo en 'Strat1_FT_best.pth'\n"
     ]
    },
    {
     "data": {
      "application/vnd.jupyter.widget-view+json": {
       "model_id": "3c488268ef554d4bbb8e866a66ccedae",
       "version_major": 2,
       "version_minor": 0
      },
      "text/plain": [
       "Epoch 6/10 [Train]:   0%|          | 0/2928 [00:00<?, ?it/s]"
      ]
     },
     "metadata": {},
     "output_type": "display_data"
    },
    {
     "data": {
      "application/vnd.jupyter.widget-view+json": {
       "model_id": "e0026e612def4638825094c7cb9316d8",
       "version_major": 2,
       "version_minor": 0
      },
      "text/plain": [
       "Epoch 6/10 [Valid]:   0%|          | 0/85 [00:00<?, ?it/s]"
      ]
     },
     "metadata": {},
     "output_type": "display_data"
    },
    {
     "name": "stdout",
     "output_type": "stream",
     "text": [
      "Epoch 6: Mejora en Val Loss. Guardando mejor modelo en 'Strat1_FT_best.pth'\n"
     ]
    },
    {
     "data": {
      "application/vnd.jupyter.widget-view+json": {
       "model_id": "52d0cafc4eb54dc99f85fa6a68a9ad53",
       "version_major": 2,
       "version_minor": 0
      },
      "text/plain": [
       "Epoch 7/10 [Train]:   0%|          | 0/2928 [00:00<?, ?it/s]"
      ]
     },
     "metadata": {},
     "output_type": "display_data"
    },
    {
     "data": {
      "application/vnd.jupyter.widget-view+json": {
       "model_id": "26913bfc48824cfe8799baceab0149ee",
       "version_major": 2,
       "version_minor": 0
      },
      "text/plain": [
       "Epoch 7/10 [Valid]:   0%|          | 0/85 [00:00<?, ?it/s]"
      ]
     },
     "metadata": {},
     "output_type": "display_data"
    },
    {
     "name": "stdout",
     "output_type": "stream",
     "text": [
      "Epoch 7: Mejora en Val Loss. Guardando mejor modelo en 'Strat1_FT_best.pth'\n"
     ]
    },
    {
     "data": {
      "application/vnd.jupyter.widget-view+json": {
       "model_id": "287efe3b692c453c86f91d441c3f56b9",
       "version_major": 2,
       "version_minor": 0
      },
      "text/plain": [
       "Epoch 8/10 [Train]:   0%|          | 0/2928 [00:00<?, ?it/s]"
      ]
     },
     "metadata": {},
     "output_type": "display_data"
    },
    {
     "data": {
      "application/vnd.jupyter.widget-view+json": {
       "model_id": "0e527cbb7a054ac09e825f26b2b4c96f",
       "version_major": 2,
       "version_minor": 0
      },
      "text/plain": [
       "Epoch 8/10 [Valid]:   0%|          | 0/85 [00:00<?, ?it/s]"
      ]
     },
     "metadata": {},
     "output_type": "display_data"
    },
    {
     "name": "stdout",
     "output_type": "stream",
     "text": [
      "Epoch 8: Mejora en Val Loss. Guardando mejor modelo en 'Strat1_FT_best.pth'\n"
     ]
    },
    {
     "data": {
      "application/vnd.jupyter.widget-view+json": {
       "model_id": "2e5ec701dbf8484ba9b180bdad564f37",
       "version_major": 2,
       "version_minor": 0
      },
      "text/plain": [
       "Epoch 9/10 [Train]:   0%|          | 0/2928 [00:00<?, ?it/s]"
      ]
     },
     "metadata": {},
     "output_type": "display_data"
    },
    {
     "data": {
      "application/vnd.jupyter.widget-view+json": {
       "model_id": "8b31bdf3e98d4f588e01d8b5df62cc9c",
       "version_major": 2,
       "version_minor": 0
      },
      "text/plain": [
       "Epoch 9/10 [Valid]:   0%|          | 0/85 [00:00<?, ?it/s]"
      ]
     },
     "metadata": {},
     "output_type": "display_data"
    },
    {
     "name": "stdout",
     "output_type": "stream",
     "text": [
      "Epoch 9: Mejora en Val Loss. Guardando mejor modelo en 'Strat1_FT_best.pth'\n"
     ]
    },
    {
     "data": {
      "application/vnd.jupyter.widget-view+json": {
       "model_id": "9b26d1f1fa654a998bcbbf22e30c2bef",
       "version_major": 2,
       "version_minor": 0
      },
      "text/plain": [
       "Epoch 10/10 [Train]:   0%|          | 0/2928 [00:00<?, ?it/s]"
      ]
     },
     "metadata": {},
     "output_type": "display_data"
    },
    {
     "data": {
      "application/vnd.jupyter.widget-view+json": {
       "model_id": "d9f2bd0f935443139102b8c060299510",
       "version_major": 2,
       "version_minor": 0
      },
      "text/plain": [
       "Epoch 10/10 [Valid]:   0%|          | 0/85 [00:00<?, ?it/s]"
      ]
     },
     "metadata": {},
     "output_type": "display_data"
    },
    {
     "name": "stdout",
     "output_type": "stream",
     "text": [
      "Epoch 10: Mejora en Val Loss. Guardando mejor modelo en 'Strat1_FT_best.pth'\n",
      "Entrenamiento finalizado. Cargando mejor modelo desde 'Strat1_FT_best.pth'\n",
      "\n",
      "\n",
      "INICIANDO CICLO DE ENTRENAMIENTO PARA ESTRATEGIA 2\n",
      "Congelando capas convolucionales (Transfer Learning)...\n",
      "\n",
      "--- Entrenando Strat2_TL por un máximo de 5 epochs (Paciencia: 3) ---\n"
     ]
    },
    {
     "data": {
      "application/vnd.jupyter.widget-view+json": {
       "model_id": "a53bca2f292d449e985ad74e6c2ff7d0",
       "version_major": 2,
       "version_minor": 0
      },
      "text/plain": [
       "Epoch 1/5 [Train]:   0%|          | 0/1904 [00:00<?, ?it/s]"
      ]
     },
     "metadata": {},
     "output_type": "display_data"
    },
    {
     "data": {
      "application/vnd.jupyter.widget-view+json": {
       "model_id": "8c5bb6114698466db6df3d720dfc6c68",
       "version_major": 2,
       "version_minor": 0
      },
      "text/plain": [
       "Epoch 1/5 [Valid]:   0%|          | 0/85 [00:00<?, ?it/s]"
      ]
     },
     "metadata": {},
     "output_type": "display_data"
    },
    {
     "name": "stdout",
     "output_type": "stream",
     "text": [
      "Epoch 1: Mejora en Val Loss. Guardando mejor modelo en 'Strat2_TL_best.pth'\n"
     ]
    },
    {
     "data": {
      "application/vnd.jupyter.widget-view+json": {
       "model_id": "0d9b8a9d21df4ec1ad736d08d0c666b8",
       "version_major": 2,
       "version_minor": 0
      },
      "text/plain": [
       "Epoch 2/5 [Train]:   0%|          | 0/1904 [00:00<?, ?it/s]"
      ]
     },
     "metadata": {},
     "output_type": "display_data"
    },
    {
     "data": {
      "application/vnd.jupyter.widget-view+json": {
       "model_id": "972afbd541c24582aa8b8408845f2fbd",
       "version_major": 2,
       "version_minor": 0
      },
      "text/plain": [
       "Epoch 2/5 [Valid]:   0%|          | 0/85 [00:00<?, ?it/s]"
      ]
     },
     "metadata": {},
     "output_type": "display_data"
    },
    {
     "name": "stdout",
     "output_type": "stream",
     "text": [
      "Epoch 2: Mejora en Val Loss. Guardando mejor modelo en 'Strat2_TL_best.pth'\n"
     ]
    },
    {
     "data": {
      "application/vnd.jupyter.widget-view+json": {
       "model_id": "b8ae85973c3d48b0888c9a228b576475",
       "version_major": 2,
       "version_minor": 0
      },
      "text/plain": [
       "Epoch 3/5 [Train]:   0%|          | 0/1904 [00:00<?, ?it/s]"
      ]
     },
     "metadata": {},
     "output_type": "display_data"
    },
    {
     "data": {
      "application/vnd.jupyter.widget-view+json": {
       "model_id": "114fce0db663412a8b423493e62f8ea7",
       "version_major": 2,
       "version_minor": 0
      },
      "text/plain": [
       "Epoch 3/5 [Valid]:   0%|          | 0/85 [00:00<?, ?it/s]"
      ]
     },
     "metadata": {},
     "output_type": "display_data"
    },
    {
     "name": "stdout",
     "output_type": "stream",
     "text": [
      "Epoch 3: Mejora en Val Loss. Guardando mejor modelo en 'Strat2_TL_best.pth'\n"
     ]
    },
    {
     "data": {
      "application/vnd.jupyter.widget-view+json": {
       "model_id": "773eebd297c045ba942661b33980bf86",
       "version_major": 2,
       "version_minor": 0
      },
      "text/plain": [
       "Epoch 4/5 [Train]:   0%|          | 0/1904 [00:00<?, ?it/s]"
      ]
     },
     "metadata": {},
     "output_type": "display_data"
    },
    {
     "data": {
      "application/vnd.jupyter.widget-view+json": {
       "model_id": "b48859cb9aae4ece9881e6fb56ea7487",
       "version_major": 2,
       "version_minor": 0
      },
      "text/plain": [
       "Epoch 4/5 [Valid]:   0%|          | 0/85 [00:00<?, ?it/s]"
      ]
     },
     "metadata": {},
     "output_type": "display_data"
    },
    {
     "name": "stdout",
     "output_type": "stream",
     "text": [
      "Epoch 4: Mejora en Val Loss. Guardando mejor modelo en 'Strat2_TL_best.pth'\n"
     ]
    },
    {
     "data": {
      "application/vnd.jupyter.widget-view+json": {
       "model_id": "487cdbc26dc84f798f741d7d9b77da0b",
       "version_major": 2,
       "version_minor": 0
      },
      "text/plain": [
       "Epoch 5/5 [Train]:   0%|          | 0/1904 [00:00<?, ?it/s]"
      ]
     },
     "metadata": {},
     "output_type": "display_data"
    },
    {
     "data": {
      "application/vnd.jupyter.widget-view+json": {
       "model_id": "4910fff4dc2b41bba958a1c0569b6f67",
       "version_major": 2,
       "version_minor": 0
      },
      "text/plain": [
       "Epoch 5/5 [Valid]:   0%|          | 0/85 [00:00<?, ?it/s]"
      ]
     },
     "metadata": {},
     "output_type": "display_data"
    },
    {
     "name": "stdout",
     "output_type": "stream",
     "text": [
      "Epoch 5: Mejora en Val Loss. Guardando mejor modelo en 'Strat2_TL_best.pth'\n",
      "Entrenamiento finalizado. Cargando mejor modelo desde 'Strat2_TL_best.pth'\n",
      "Descongelando todas las capas (Fine-tuning)...\n",
      "\n",
      "--- Entrenando Strat2_FT por un máximo de 10 epochs (Paciencia: 3) ---\n"
     ]
    },
    {
     "data": {
      "application/vnd.jupyter.widget-view+json": {
       "model_id": "51b686e395754abda5ea670070355e3a",
       "version_major": 2,
       "version_minor": 0
      },
      "text/plain": [
       "Epoch 1/10 [Train]:   0%|          | 0/1904 [00:00<?, ?it/s]"
      ]
     },
     "metadata": {},
     "output_type": "display_data"
    },
    {
     "data": {
      "application/vnd.jupyter.widget-view+json": {
       "model_id": "12da089c1b8d49b1aa066bc466f52b8d",
       "version_major": 2,
       "version_minor": 0
      },
      "text/plain": [
       "Epoch 1/10 [Valid]:   0%|          | 0/85 [00:00<?, ?it/s]"
      ]
     },
     "metadata": {},
     "output_type": "display_data"
    },
    {
     "name": "stdout",
     "output_type": "stream",
     "text": [
      "Epoch 1: Mejora en Val Loss. Guardando mejor modelo en 'Strat2_FT_best.pth'\n"
     ]
    },
    {
     "data": {
      "application/vnd.jupyter.widget-view+json": {
       "model_id": "205b8715ea0e43d7a5e222d886d10c4e",
       "version_major": 2,
       "version_minor": 0
      },
      "text/plain": [
       "Epoch 2/10 [Train]:   0%|          | 0/1904 [00:00<?, ?it/s]"
      ]
     },
     "metadata": {},
     "output_type": "display_data"
    },
    {
     "data": {
      "application/vnd.jupyter.widget-view+json": {
       "model_id": "8d80d003d4b549c991a015789b137304",
       "version_major": 2,
       "version_minor": 0
      },
      "text/plain": [
       "Epoch 2/10 [Valid]:   0%|          | 0/85 [00:00<?, ?it/s]"
      ]
     },
     "metadata": {},
     "output_type": "display_data"
    },
    {
     "name": "stdout",
     "output_type": "stream",
     "text": [
      "Epoch 2: Mejora en Val Loss. Guardando mejor modelo en 'Strat2_FT_best.pth'\n"
     ]
    },
    {
     "data": {
      "application/vnd.jupyter.widget-view+json": {
       "model_id": "22ec4d869a1e4c4db213ef01c8805eeb",
       "version_major": 2,
       "version_minor": 0
      },
      "text/plain": [
       "Epoch 3/10 [Train]:   0%|          | 0/1904 [00:00<?, ?it/s]"
      ]
     },
     "metadata": {},
     "output_type": "display_data"
    },
    {
     "data": {
      "application/vnd.jupyter.widget-view+json": {
       "model_id": "bed6a2b9b2674ae48d94313ac83b774f",
       "version_major": 2,
       "version_minor": 0
      },
      "text/plain": [
       "Epoch 3/10 [Valid]:   0%|          | 0/85 [00:00<?, ?it/s]"
      ]
     },
     "metadata": {},
     "output_type": "display_data"
    },
    {
     "name": "stdout",
     "output_type": "stream",
     "text": [
      "Epoch 3: Mejora en Val Loss. Guardando mejor modelo en 'Strat2_FT_best.pth'\n"
     ]
    },
    {
     "data": {
      "application/vnd.jupyter.widget-view+json": {
       "model_id": "5d598dd5b75740078f4cde7567e746d4",
       "version_major": 2,
       "version_minor": 0
      },
      "text/plain": [
       "Epoch 4/10 [Train]:   0%|          | 0/1904 [00:00<?, ?it/s]"
      ]
     },
     "metadata": {},
     "output_type": "display_data"
    },
    {
     "data": {
      "application/vnd.jupyter.widget-view+json": {
       "model_id": "1d21d835ebe540d086b2c1af1804a553",
       "version_major": 2,
       "version_minor": 0
      },
      "text/plain": [
       "Epoch 4/10 [Valid]:   0%|          | 0/85 [00:00<?, ?it/s]"
      ]
     },
     "metadata": {},
     "output_type": "display_data"
    },
    {
     "name": "stdout",
     "output_type": "stream",
     "text": [
      "Epoch 4: Mejora en Val Loss. Guardando mejor modelo en 'Strat2_FT_best.pth'\n"
     ]
    },
    {
     "data": {
      "application/vnd.jupyter.widget-view+json": {
       "model_id": "aced5269297a4828b0ee4810a8b89fbb",
       "version_major": 2,
       "version_minor": 0
      },
      "text/plain": [
       "Epoch 5/10 [Train]:   0%|          | 0/1904 [00:00<?, ?it/s]"
      ]
     },
     "metadata": {},
     "output_type": "display_data"
    },
    {
     "data": {
      "application/vnd.jupyter.widget-view+json": {
       "model_id": "ce18bd26b2d0465798f4c2c66d217fda",
       "version_major": 2,
       "version_minor": 0
      },
      "text/plain": [
       "Epoch 5/10 [Valid]:   0%|          | 0/85 [00:00<?, ?it/s]"
      ]
     },
     "metadata": {},
     "output_type": "display_data"
    },
    {
     "name": "stdout",
     "output_type": "stream",
     "text": [
      "Epoch 5: Mejora en Val Loss. Guardando mejor modelo en 'Strat2_FT_best.pth'\n"
     ]
    },
    {
     "data": {
      "application/vnd.jupyter.widget-view+json": {
       "model_id": "a2cf5442574c406a97841d033fb3b869",
       "version_major": 2,
       "version_minor": 0
      },
      "text/plain": [
       "Epoch 6/10 [Train]:   0%|          | 0/1904 [00:00<?, ?it/s]"
      ]
     },
     "metadata": {},
     "output_type": "display_data"
    },
    {
     "data": {
      "application/vnd.jupyter.widget-view+json": {
       "model_id": "3ae1bf624da14472b6e659fecd39c28a",
       "version_major": 2,
       "version_minor": 0
      },
      "text/plain": [
       "Epoch 6/10 [Valid]:   0%|          | 0/85 [00:00<?, ?it/s]"
      ]
     },
     "metadata": {},
     "output_type": "display_data"
    },
    {
     "name": "stdout",
     "output_type": "stream",
     "text": [
      "Epoch 6: Mejora en Val Loss. Guardando mejor modelo en 'Strat2_FT_best.pth'\n"
     ]
    },
    {
     "data": {
      "application/vnd.jupyter.widget-view+json": {
       "model_id": "d299e0473bfa4ec3af065d8d0be05f42",
       "version_major": 2,
       "version_minor": 0
      },
      "text/plain": [
       "Epoch 7/10 [Train]:   0%|          | 0/1904 [00:00<?, ?it/s]"
      ]
     },
     "metadata": {},
     "output_type": "display_data"
    },
    {
     "data": {
      "application/vnd.jupyter.widget-view+json": {
       "model_id": "0c7f98f10f4b4c6dbd719a79f08b230e",
       "version_major": 2,
       "version_minor": 0
      },
      "text/plain": [
       "Epoch 7/10 [Valid]:   0%|          | 0/85 [00:00<?, ?it/s]"
      ]
     },
     "metadata": {},
     "output_type": "display_data"
    },
    {
     "name": "stdout",
     "output_type": "stream",
     "text": [
      "Epoch 7: Mejora en Val Loss. Guardando mejor modelo en 'Strat2_FT_best.pth'\n"
     ]
    },
    {
     "data": {
      "application/vnd.jupyter.widget-view+json": {
       "model_id": "78ff7bde7e034876a27b38d061d898e8",
       "version_major": 2,
       "version_minor": 0
      },
      "text/plain": [
       "Epoch 8/10 [Train]:   0%|          | 0/1904 [00:00<?, ?it/s]"
      ]
     },
     "metadata": {},
     "output_type": "display_data"
    },
    {
     "data": {
      "application/vnd.jupyter.widget-view+json": {
       "model_id": "3f64275f81e24ae9bbef6a38abaf076b",
       "version_major": 2,
       "version_minor": 0
      },
      "text/plain": [
       "Epoch 8/10 [Valid]:   0%|          | 0/85 [00:00<?, ?it/s]"
      ]
     },
     "metadata": {},
     "output_type": "display_data"
    },
    {
     "name": "stdout",
     "output_type": "stream",
     "text": [
      "Epoch 8: Mejora en Val Loss. Guardando mejor modelo en 'Strat2_FT_best.pth'\n"
     ]
    },
    {
     "data": {
      "application/vnd.jupyter.widget-view+json": {
       "model_id": "86a9a8256b85467892d540aef4fb2705",
       "version_major": 2,
       "version_minor": 0
      },
      "text/plain": [
       "Epoch 9/10 [Train]:   0%|          | 0/1904 [00:00<?, ?it/s]"
      ]
     },
     "metadata": {},
     "output_type": "display_data"
    },
    {
     "data": {
      "application/vnd.jupyter.widget-view+json": {
       "model_id": "0780fb8417bf45ea987fc1dc9ae8cda6",
       "version_major": 2,
       "version_minor": 0
      },
      "text/plain": [
       "Epoch 9/10 [Valid]:   0%|          | 0/85 [00:00<?, ?it/s]"
      ]
     },
     "metadata": {},
     "output_type": "display_data"
    },
    {
     "name": "stdout",
     "output_type": "stream",
     "text": [
      "Epoch 9: Mejora en Val Loss. Guardando mejor modelo en 'Strat2_FT_best.pth'\n"
     ]
    },
    {
     "data": {
      "application/vnd.jupyter.widget-view+json": {
       "model_id": "385fa115f5464877b8e0574280721bf4",
       "version_major": 2,
       "version_minor": 0
      },
      "text/plain": [
       "Epoch 10/10 [Train]:   0%|          | 0/1904 [00:00<?, ?it/s]"
      ]
     },
     "metadata": {},
     "output_type": "display_data"
    },
    {
     "data": {
      "application/vnd.jupyter.widget-view+json": {
       "model_id": "fb4c00b7c5b343aab38faa68731c8dd5",
       "version_major": 2,
       "version_minor": 0
      },
      "text/plain": [
       "Epoch 10/10 [Valid]:   0%|          | 0/85 [00:00<?, ?it/s]"
      ]
     },
     "metadata": {},
     "output_type": "display_data"
    },
    {
     "name": "stdout",
     "output_type": "stream",
     "text": [
      "Epoch 10: Mejora en Val Loss. Guardando mejor modelo en 'Strat2_FT_best.pth'\n",
      "Entrenamiento finalizado. Cargando mejor modelo desde 'Strat2_FT_best.pth'\n"
     ]
    }
   ],
   "source": [
    "# Diccionario para guardar los historiales\n",
    "results = {}\n",
    "\n",
    "# Hiperparámetros\n",
    "EPOCHS_TL = 5      # Épocas para Transfer Learning\n",
    "EPOCHS_FT = 10     # Épocas para Fine-Tuning\n",
    "LR_TL = 1e-3       # Learning Rate para Transfer Learning\n",
    "LR_FT = 1e-4       # Learning Rate para Fine-Tuning\n",
    "PATIENCE = 3       # Paciencia para Early Stopping\n",
    "\n",
    "# ===================================================================\n",
    "# --- Experimento con Estrategia 1 ---\n",
    "# ===================================================================\n",
    "print(\"INICIANDO CICLO DE ENTRENAMIENTO PARA ESTRATEGIA 1\")\n",
    "model_s1 = Model(num_classes=NUM_CLASSES, pretrained=True)\n",
    "\n",
    "# Fase de Transfer Learning\n",
    "model_s1.freeze()\n",
    "history_tl_s1 = fit(model=model_s1, dataloader=dataloader_s1, epochs=EPOCHS_TL, lr=LR_TL, patience=PATIENCE, model_name='Strat1_TL', device=DEVICE)\n",
    "\n",
    "# Fase de Fine-Tuning\n",
    "model_s1.unfreeze()\n",
    "history_ft_s1 = fit(model=model_s1, dataloader=dataloader_s1, epochs=EPOCHS_FT, lr=LR_FT, patience=PATIENCE, model_name='Strat1_FT', device=DEVICE)\n",
    "\n",
    "# Guardamos el historial combinado\n",
    "results['Estrategia 1'] = {k: history_tl_s1[k] + history_ft_s1[k] for k in history_tl_s1}\n",
    "\n",
    "\n",
    "# ===================================================================\n",
    "# --- Experimento con Estrategia 2 ---\n",
    "# ===================================================================\n",
    "print(\"\\n\" * 2 + \"INICIANDO CICLO DE ENTRENAMIENTO PARA ESTRATEGIA 2\")\n",
    "model_s2 = Model(num_classes=NUM_CLASSES, pretrained=True)\n",
    "\n",
    "# Fase de Transfer Learning\n",
    "model_s2.freeze()\n",
    "history_tl_s2 = fit(model=model_s2, dataloader=dataloader_s2, epochs=EPOCHS_TL, lr=LR_TL, patience=PATIENCE, model_name='Strat2_TL', device=DEVICE)\n",
    "\n",
    "# Fase de Fine-Tuning\n",
    "model_s2.unfreeze()\n",
    "history_ft_s2 = fit(model=model_s2, dataloader=dataloader_s2, epochs=EPOCHS_FT, lr=LR_FT, patience=PATIENCE, model_name='Strat2_FT', device=DEVICE)\n",
    "\n",
    "# Guardamos el historial combinado\n",
    "results['Estrategia 2'] = {k: history_tl_s2[k] + history_ft_s2[k] for k in history_tl_s2}\n",
    "\n"
   ]
  },
  {
   "cell_type": "code",
   "execution_count": 5,
   "id": "2360693f",
   "metadata": {},
   "outputs": [
    {
     "data": {
      "image/png": "[encoded data removed]",
      "text/plain": [
       "<Figure size 2000x800 with 2 Axes>"
      ]
     },
     "metadata": {},
     "output_type": "display_data"
    }
   ],
   "source": [
    "if 'results' in locals() and results:\n",
    "    plt.style.use('seaborn-v0_8-whitegrid')\n",
    "    fig, axes = plt.subplots(1, 2, figsize=(20, 8), sharey=False)\n",
    "    fig.suptitle(\"Comparación de Estrategias de Aumento de Datos\", fontsize=20)\n",
    "\n",
    "    colors = {'Estrategia 1': 'royalblue', 'Estrategia 2': 'forestgreen'}\n",
    "\n",
    "    # --- Gráfico de Validation Accuracy ---\n",
    "    ax = axes[0]\n",
    "    for name, history in results.items():\n",
    "        epochs = range(1, len(history['val_acc']) + 1)\n",
    "        ax.plot(epochs, history['val_acc'], label=name, color=colors[name], marker='o', linestyle='-')\n",
    "        tl_epochs = len(history_tl_s1.get('val_acc', []))\n",
    "        if len(epochs) > tl_epochs:\n",
    "             ax.axvline(x=tl_epochs + 0.5, color=colors[name], linestyle='--', alpha=0.7, label=f'{name} Fine-Tuning Start')\n",
    "\n",
    "    ax.set_title(\"Validation Accuracy por Epoch\", fontsize=16)\n",
    "    ax.set_xlabel(\"Epochs\", fontsize=12)\n",
    "    ax.set_ylabel(\"Accuracy\", fontsize=12)\n",
    "    ax.legend()\n",
    "    ax.grid(True)\n",
    "\n",
    "    # --- Gráfico de Validation Loss ---\n",
    "    ax = axes[1]\n",
    "    for name, history in results.items():\n",
    "        epochs = range(1, len(history['val_loss']) + 1)\n",
    "        ax.plot(epochs, history['val_loss'], label=name, color=colors[name], marker='x', linestyle=':')\n",
    "        tl_epochs = len(history_tl_s1.get('val_loss', []))\n",
    "        if len(epochs) > tl_epochs:\n",
    "             ax.axvline(x=tl_epochs + 0.5, color=colors[name], linestyle='--', alpha=0.7)\n",
    "\n",
    "    ax.set_title(\"Validation Loss por Epoch\", fontsize=16)\n",
    "    ax.set_xlabel(\"Epochs\", fontsize=12)\n",
    "    ax.set_ylabel(\"Loss\", fontsize=12)\n",
    "    ax.legend()\n",
    "    ax.grid(True)\n",
    "\n",
    "    plt.tight_layout(rect=[0, 0, 1, 0.96])\n",
    "    plt.show()\n",
    "\n",
    "else:\n",
    "    print(\"La variable 'results' no contiene datos. Asegúrate de ejecutar la celda de entrenamiento primero.\")\n",
    "    "
   ]
  }
 ],
 "metadata": {
  "kernelspec": {
   "display_name": "Python 3",
   "language": "python",
   "name": "python3"
  },
  "language_info": {
   "codemirror_mode": {
    "name": "ipython",
    "version": 3
   },
   "file_extension": ".py",
   "mimetype": "text/x-python",
   "name": "python",
   "nbconvert_exporter": "python",
   "pygments_lexer": "ipython3",
   "version": "3.13.2"
  }
 },
 "nbformat": 4,
 "nbformat_minor": 5
}
